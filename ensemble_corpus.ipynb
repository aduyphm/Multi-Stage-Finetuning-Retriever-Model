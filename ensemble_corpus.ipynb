{
 "cells": [
  {
   "cell_type": "code",
   "execution_count": 2,
   "id": "82f9a80d",
   "metadata": {},
   "outputs": [],
   "source": [
    "import os\n",
    "import json"
   ]
  },
  {
   "cell_type": "code",
   "execution_count": 3,
   "id": "345edc35",
   "metadata": {},
   "outputs": [],
   "source": [
    "data_dir = os.path.join(os.getcwd(), \"data/corpus\")"
   ]
  },
  {
   "cell_type": "code",
   "execution_count": 5,
   "id": "61434f7c",
   "metadata": {},
   "outputs": [],
   "source": [
    "data = []\n",
    "for filename in os.listdir(data_dir):\n",
    "    data_file = os.path.join(data_dir, filename)\n",
    "    # checking if it is a file\n",
    "    if not os.path.isfile(data_file):\n",
    "        continue\n",
    "    with open(data_file, 'r') as json_file:\n",
    "        corpus_data = json.load(json_file)\n",
    "    data.extend(corpus_data)"
   ]
  },
  {
   "cell_type": "code",
   "execution_count": null,
   "id": "e58456d2",
   "metadata": {},
   "outputs": [],
   "source": [
    "with open(os.path.join(data_dir, \"ensemble_corpus.json\"), \"w\") as file:\n",
    "    json.dump(data, file)"
   ]
  }
 ],
 "metadata": {
  "kernelspec": {
   "display_name": "Python 3 (ipykernel)",
   "language": "python",
   "name": "python3"
  },
  "language_info": {
   "codemirror_mode": {
    "name": "ipython",
    "version": 3
   },
   "file_extension": ".py",
   "mimetype": "text/x-python",
   "name": "python",
   "nbconvert_exporter": "python",
   "pygments_lexer": "ipython3",
   "version": "3.10.11"
  }
 },
 "nbformat": 4,
 "nbformat_minor": 5
}
